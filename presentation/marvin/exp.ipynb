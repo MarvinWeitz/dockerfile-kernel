{
 "cells": [
  {
   "cell_type": "code",
   "execution_count": null,
   "id": "4c9a3976-3267-4e3e-8e6b-c66f0f4f15af",
   "metadata": {},
   "outputs": [],
   "source": [
    "FROM ubuntu"
   ]
  },
  {
   "cell_type": "code",
   "execution_count": null,
   "id": "7ef742f8-8d99-4135-a07f-5e625f76ff7f",
   "metadata": {},
   "outputs": [],
   "source": [
    "COPY test.txt ."
   ]
  },
  {
   "cell_type": "code",
   "execution_count": null,
   "id": "cf9e3067-c96d-4a51-bfb0-1ff5b7671548",
   "metadata": {},
   "outputs": [],
   "source": [
    "%magics"
   ]
  },
  {
   "cell_type": "markdown",
   "id": "5e3cac81-7ca2-4906-a6cd-3ef63f911ad8",
   "metadata": {},
   "source": [
    "*This is markdown*"
   ]
  },
  {
   "cell_type": "markdown",
   "id": "79d4f914-669d-4f7d-b389-2d8e0398c0ca",
   "metadata": {},
   "source": [
    "### Some Header\n",
    "\n",
    "1. first item\n",
    "2. second item"
   ]
  }
 ],
 "metadata": {
  "kernelspec": {
   "display_name": "Dockerfile",
   "language": "text",
   "name": "docker"
  },
  "language_info": {
   "codemirror_mode": "Dockerfile",
   "file_extension": ".dockerfile",
   "mimetype": "text/x-dockerfile",
   "name": "docker"
  }
 },
 "nbformat": 4,
 "nbformat_minor": 5
}
