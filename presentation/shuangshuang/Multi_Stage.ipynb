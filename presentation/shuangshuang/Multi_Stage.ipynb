{
 "cells": [
  {
   "cell_type": "code",
   "execution_count": null,
   "id": "0b3bb91f-ebff-4a74-b88d-fb85e6b2b7ec",
   "metadata": {},
   "outputs": [],
   "source": [
    "FROM ubuntu"
   ]
  },
  {
   "cell_type": "code",
   "execution_count": null,
   "id": "88b655a8-538b-4cb2-98a3-6977a60dd9fd",
   "metadata": {},
   "outputs": [],
   "source": [
    "FROM node:12.13.0-alpine as build"
   ]
  },
  {
   "cell_type": "code",
   "execution_count": null,
   "id": "830ab144-8f34-45a3-8f12-d8195c943c58",
   "metadata": {},
   "outputs": [],
   "source": [
    "WORKDIR /app"
   ]
  },
  {
   "cell_type": "code",
   "execution_count": null,
   "id": "b0554d93-995a-49fc-a7de-7a12ff61403d",
   "metadata": {},
   "outputs": [],
   "source": [
    "COPY package*.json ./"
   ]
  },
  {
   "cell_type": "code",
   "execution_count": null,
   "id": "5a7c6591-0255-4159-a590-c04a609a2011",
   "metadata": {},
   "outputs": [],
   "source": [
    "FROM nginx"
   ]
  },
  {
   "cell_type": "code",
   "execution_count": null,
   "id": "dccc53f9-941d-40bd-947e-b91d94ca46ef",
   "metadata": {},
   "outputs": [],
   "source": [
    "COPY --from=1 /app /usr/share/nginx/html"
   ]
  },
  {
   "cell_type": "code",
   "execution_count": null,
   "id": "2edbffbb-9f65-4d21-9f7e-da03a69222ec",
   "metadata": {},
   "outputs": [],
   "source": [
    "%stages"
   ]
  }
 ],
 "metadata": {
  "kernelspec": {
   "display_name": "Dockerfile",
   "language": "text",
   "name": "docker"
  },
  "language_info": {
   "codemirror_mode": "Dockerfile",
   "file_extension": ".dockerfile",
   "mimetype": "text/x-dockerfile",
   "name": "docker"
  }
 },
 "nbformat": 4,
 "nbformat_minor": 5
}
