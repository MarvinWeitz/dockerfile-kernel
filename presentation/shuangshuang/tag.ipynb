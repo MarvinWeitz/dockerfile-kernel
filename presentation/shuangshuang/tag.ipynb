{
 "cells": [
  {
   "cell_type": "code",
   "execution_count": null,
   "id": "0b0df943-14a7-4c77-9824-402e152c6c75",
   "metadata": {},
   "outputs": [],
   "source": [
    "FROM ubuntu"
   ]
  },
  {
   "cell_type": "code",
   "execution_count": 3,
   "id": "e7d6d87d-20bc-49c3-af32-3a774a8e258d",
   "metadata": {},
   "outputs": [
    {
     "name": "stdout",
     "output_type": "stream",
     "text": [
      "Image 3565a89d9e81 is tagged with: ub:v1.0"
     ]
    }
   ],
   "source": [
    "%tag ub:v1.0"
   ]
  },
  {
   "cell_type": "code",
   "execution_count": 4,
   "id": "67bbb988-8e50-4736-88a2-f0a4c446317b",
   "metadata": {},
   "outputs": [
    {
     "name": "stdout",
     "output_type": "stream",
     "text": [
      "Step 1/2 : FROM sha256:3565a89d9e81a4cb4cb2b0d947c7c11227a3f358dc216d19fc54bfd77cd5b542 ---> 3565a89d9e81\n",
      "Step 2/2 : FROM nginx ---> 61395b4c586d\n",
      "Successfully built 61395b4c586d\n"
     ]
    }
   ],
   "source": [
    "FROM nginx"
   ]
  },
  {
   "cell_type": "code",
   "execution_count": 5,
   "id": "bec222bb-a085-4eee-8850-dd6f3755bb05",
   "metadata": {},
   "outputs": [
    {
     "name": "stdout",
     "output_type": "stream",
     "text": [
      "Note: Build stage ub:v1.0 is not known.Attempting to use image with name ub:v1.0...Step 1/2 : FROM sha256:61395b4c586da2b9b3b7ca903ea6a448e6783dfdd7f768ff2c1a0f3360aaba99 ---> 61395b4c586d\n",
      "Step 2/2 : copy --from=ub:v1.0 ./ /usr/share/nginx/html ---> 0d4094393947\n",
      "Successfully built 0d4094393947\n"
     ]
    }
   ],
   "source": [
    "COPY --from=ub:v1.0 ./ /usr/share/nginx/html"
   ]
  },
  {
   "cell_type": "code",
   "execution_count": 6,
   "id": "a256ca6d-78cb-44df-8cf1-f3082ac7f394",
   "metadata": {},
   "outputs": [
    {
     "name": "stdout",
     "output_type": "stream",
     "text": [
      "+-------+-------+-------------------------------------------------------------------------+\n",
      "| index | alias |                                 image id                                |\n",
      "+-------+-------+-------------------------------------------------------------------------+\n",
      "|   0   |  None | sha256:3565a89d9e81a4cb4cb2b0d947c7c11227a3f358dc216d19fc54bfd77cd5b542 |\n",
      "|   1   |  None | sha256:0d40943939478d0229b4d9883112bf5c69297245e15089d05e99396122165c07 |\n",
      "+-------+-------+-------------------------------------------------------------------------+\n"
     ]
    }
   ],
   "source": [
    "%stages"
   ]
  },
  {
   "cell_type": "code",
   "execution_count": null,
   "id": "9e140ec8-2443-43b8-b168-4b32257b31c0",
   "metadata": {},
   "outputs": [],
   "source": []
  }
 ],
 "metadata": {
  "kernelspec": {
   "display_name": "Dockerfile",
   "language": "text",
   "name": "docker"
  },
  "language_info": {
   "codemirror_mode": "Dockerfile",
   "file_extension": ".dockerfile",
   "mimetype": "text/x-dockerfile",
   "name": "docker"
  }
 },
 "nbformat": 4,
 "nbformat_minor": 5
}
