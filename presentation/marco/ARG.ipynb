{
 "cells": [
  {
   "cell_type": "code",
   "execution_count": 1,
   "id": "40451224-fd78-42d8-8dc6-ebf0a5862090",
   "metadata": {},
   "outputs": [
    {
     "name": "stdout",
     "output_type": "stream",
     "text": [
      "Step 1/1 : FROM ubuntu:latest ---> 01f29b872827\n",
      "Successfully built 01f29b872827\n"
     ]
    }
   ],
   "source": [
    "FROM ubuntu:latest\n"
   ]
  },
  {
   "cell_type": "code",
   "execution_count": 2,
   "id": "30f7d22c-200d-4fa9-a22f-fbe9bc9a195d",
   "metadata": {},
   "outputs": [
    {
     "name": "stdout",
     "output_type": "stream",
     "text": [
      "Build argument 'GREET' set to 'GeeksForGeeks7'\n",
      "Current build arguments:\n",
      "\tGREET=GeeksForGeeks7\n"
     ]
    }
   ],
   "source": [
    "%arg GREET=GeeksForGeeks7"
   ]
  },
  {
   "cell_type": "code",
   "execution_count": 3,
   "id": "52cef17c-6e93-4427-aa5d-9826911cadc6",
   "metadata": {},
   "outputs": [
    {
     "name": "stdout",
     "output_type": "stream",
     "text": [
      "Current build arguments:\n",
      "\tGREET=GeeksForGeeks7\n"
     ]
    }
   ],
   "source": [
    "%arg list GREET"
   ]
  },
  {
   "cell_type": "code",
   "execution_count": 4,
   "id": "345d3836-b619-4533-8d1d-51e9d2f4b29d",
   "metadata": {},
   "outputs": [
    {
     "name": "stdout",
     "output_type": "stream",
     "text": [
      "Build argument 'N' set to 'NP'\n",
      "Current build arguments:\n",
      "\tGREET=GeeksForGeeks7\n",
      "\tN=NP\n"
     ]
    }
   ],
   "source": [
    "%arg N=NP"
   ]
  },
  {
   "cell_type": "code",
   "execution_count": 5,
   "id": "08c56ae4-e08c-4504-b401-6a79d172f43a",
   "metadata": {},
   "outputs": [
    {
     "name": "stdout",
     "output_type": "stream",
     "text": [
      "Build argument 'N' removed\n"
     ]
    }
   ],
   "source": [
    "%arg rm N"
   ]
  },
  {
   "cell_type": "code",
   "execution_count": 6,
   "id": "af2dd63d-2af6-42db-8e07-85ffcffe894f",
   "metadata": {},
   "outputs": [
    {
     "name": "stdout",
     "output_type": "stream",
     "text": [
      "Current build arguments:\n",
      "\tGREET=GeeksForGeeks7\n"
     ]
    }
   ],
   "source": [
    "%arg ls"
   ]
  },
  {
   "cell_type": "code",
   "execution_count": 7,
   "id": "d681ee26-f97a-4556-9936-212b0d14bbf0",
   "metadata": {},
   "outputs": [
    {
     "name": "stdout",
     "output_type": "stream",
     "text": [
      "Step 1/3 : FROM sha256:01f29b872827fa6f9aed0ea0b2ede53aea4ad9d66c7920e81a8db6d1fd9ab7f9 ---> 01f29b872827\n",
      "Step 2/3 : ARG GREET ---> Using cache\n",
      " ---> ec2bfba77f00\n",
      "Step 3/3 : RUN echo \"Hey there! Welcome to $GREET\" ---> Using cache\n",
      " ---> 668134ea9eee\n",
      "Successfully built 668134ea9eee\n"
     ]
    }
   ],
   "source": [
    "ARG GREET\n",
    "RUN echo \"Hey there! Welcome to $GREET\""
   ]
  }
 ],
 "metadata": {
  "kernelspec": {
   "display_name": "Dockerfile",
   "language": "text",
   "name": "docker"
  },
  "language_info": {
   "codemirror_mode": "Dockerfile",
   "file_extension": ".dockerfile",
   "mimetype": "text/x-dockerfile",
   "name": "docker"
  }
 },
 "nbformat": 4,
 "nbformat_minor": 5
}
