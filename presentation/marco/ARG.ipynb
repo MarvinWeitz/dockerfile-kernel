{
 "cells": [
  {
   "cell_type": "code",
   "execution_count": null,
   "id": "40451224-fd78-42d8-8dc6-ebf0a5862090",
   "metadata": {},
   "outputs": [],
   "source": [
    "FROM ubuntu:latest\n"
   ]
  },
  {
   "cell_type": "code",
   "execution_count": null,
   "id": "30f7d22c-200d-4fa9-a22f-fbe9bc9a195d",
   "metadata": {},
   "outputs": [],
   "source": [
    "%arg GREET=GeeksForGeeks"
   ]
  },
  {
   "cell_type": "code",
   "execution_count": null,
   "id": "52cef17c-6e93-4427-aa5d-9826911cadc6",
   "metadata": {},
   "outputs": [],
   "source": [
    "%arg list GREET"
   ]
  },
  {
   "cell_type": "code",
   "execution_count": null,
   "id": "345d3836-b619-4533-8d1d-51e9d2f4b29d",
   "metadata": {},
   "outputs": [],
   "source": [
    "%arg N=NP"
   ]
  },
  {
   "cell_type": "code",
   "execution_count": null,
   "id": "08c56ae4-e08c-4504-b401-6a79d172f43a",
   "metadata": {},
   "outputs": [],
   "source": [
    "%arg rm N"
   ]
  },
  {
   "cell_type": "code",
   "execution_count": null,
   "id": "af2dd63d-2af6-42db-8e07-85ffcffe894f",
   "metadata": {},
   "outputs": [],
   "source": [
    "%arg ls"
   ]
  },
  {
   "cell_type": "code",
   "execution_count": null,
   "id": "d681ee26-f97a-4556-9936-212b0d14bbf0",
   "metadata": {},
   "outputs": [],
   "source": [
    "ARG GREET\n",
    "RUN echo \"Hey there! Welcome to $GREET\""
   ]
  }
 ],
 "metadata": {
  "kernelspec": {
   "display_name": "Dockerfile",
   "language": "text",
   "name": "docker"
  },
  "language_info": {
   "codemirror_mode": "Dockerfile",
   "file_extension": ".dockerfile",
   "mimetype": "text/x-dockerfile",
   "name": "docker"
  }
 },
 "nbformat": 4,
 "nbformat_minor": 5
}
