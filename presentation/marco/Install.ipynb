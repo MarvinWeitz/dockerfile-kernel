{
 "cells": [
  {
   "cell_type": "code",
   "execution_count": null,
   "id": "d6374d60-505e-407b-b2b3-93dc5a699c35",
   "metadata": {},
   "outputs": [],
   "source": [
    "FROM ubuntu"
   ]
  },
  {
   "cell_type": "code",
   "execution_count": null,
   "id": "0050f245-6005-431f-90a8-82926dc15143",
   "metadata": {
    "scrolled": true
   },
   "outputs": [],
   "source": [
    "RUN apt-get update &&\\\n",
    "\t apt-get install -y figlet &&\\\n",
    "\t rm -rf /var/lib/apt/lists/*"
   ]
  },
  {
   "cell_type": "code",
   "execution_count": null,
   "id": "4e1fb908-5d76-48b4-961d-94bb04ea9622",
   "metadata": {},
   "outputs": [],
   "source": [
    "RUN figlet \"Hello World\""
   ]
  }
 ],
 "metadata": {
  "kernelspec": {
   "display_name": "Dockerfile",
   "language": "text",
   "name": "docker"
  },
  "language_info": {
   "codemirror_mode": "Dockerfile",
   "file_extension": ".dockerfile",
   "mimetype": "text/x-dockerfile",
   "name": "docker"
  }
 },
 "nbformat": 4,
 "nbformat_minor": 5
}
