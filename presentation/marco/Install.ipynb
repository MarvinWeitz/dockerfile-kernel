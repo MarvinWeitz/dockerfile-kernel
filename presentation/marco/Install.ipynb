{
 "cells": [
  {
   "cell_type": "code",
   "execution_count": 1,
   "id": "d6374d60-505e-407b-b2b3-93dc5a699c35",
   "metadata": {},
   "outputs": [
    {
     "name": "stdout",
     "output_type": "stream",
     "text": [
      "Step 1/1 : FROM ubuntu ---> 01f29b872827\n",
      "Successfully built 01f29b872827\n"
     ]
    }
   ],
   "source": [
    "FROM ubuntu"
   ]
  },
  {
   "cell_type": "code",
   "execution_count": 2,
   "id": "0050f245-6005-431f-90a8-82926dc15143",
   "metadata": {},
   "outputs": [
    {
     "name": "stdout",
     "output_type": "stream",
     "text": [
      "Step 1/3 : FROM sha256:01f29b872827fa6f9aed0ea0b2ede53aea4ad9d66c7920e81a8db6d1fd9ab7f9 ---> 01f29b872827\n",
      "Step 2/3 : FROM sha256:01f29b872827fa6f9aed0ea0b2ede53aea4ad9d66c7920e81a8db6d1fd9ab7f9 ---> 01f29b872827\n",
      "Step 3/3 : RUN apt-get update && apt-get install -y figlet && rm -rf /var/lib/apt/lists/* ---> Using cache\n",
      " ---> f4365d7fae14\n",
      "Successfully built f4365d7fae14\n"
     ]
    }
   ],
   "source": [
    "RUN apt-get update &&\\\n",
    "\t apt-get install -y figlet &&\\\n",
    "\t rm -rf /var/lib/apt/lists/*"
   ]
  },
  {
   "cell_type": "code",
   "execution_count": 3,
   "id": "80187070-9772-4f41-96f0-f0082899ba6f",
   "metadata": {},
   "outputs": [
    {
     "name": "stdout",
     "output_type": "stream",
     "text": [
      "Step 1/2 : FROM sha256:f4365d7fae14f17977a746ff9d418a2358d4594b0d538ad4a3e90ca72dac9f02 ---> f4365d7fae14\n",
      "Step 2/2 : RUN figlet \"Dominic is the best Nic\" ---> Using cache\n",
      " ---> e2d472500a29\n",
      "Successfully built e2d472500a29\n"
     ]
    }
   ],
   "source": [
    "RUN figlet \"Dominic is the best Nic\""
   ]
  },
  {
   "cell_type": "code",
   "execution_count": 4,
   "id": "4e1fb908-5d76-48b4-961d-94bb04ea9622",
   "metadata": {},
   "outputs": [
    {
     "name": "stdout",
     "output_type": "stream",
     "text": [
      "Step 1/2 : FROM sha256:e2d472500a29f53386bda8e217bd5294c8b50df22f03212640ec4a5f12228a43 ---> e2d472500a29\n",
      "Step 2/2 : RUN figlet \"How do IT professionals stay cool in the summer? They use Windows!\" ---> Using cache\n",
      " ---> 326d5a23f876\n",
      "Successfully built 326d5a23f876\n"
     ]
    }
   ],
   "source": [
    "RUN figlet \"How do IT professionals stay cool in the summer? They use Windows!\""
   ]
  }
 ],
 "metadata": {
  "kernelspec": {
   "display_name": "Dockerfile",
   "language": "text",
   "name": "docker"
  },
  "language_info": {
   "codemirror_mode": "Dockerfile",
   "file_extension": ".dockerfile",
   "mimetype": "text/x-dockerfile",
   "name": "docker"
  }
 },
 "nbformat": 4,
 "nbformat_minor": 5
}
