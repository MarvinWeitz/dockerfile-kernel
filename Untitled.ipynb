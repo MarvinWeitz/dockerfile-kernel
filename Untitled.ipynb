{
 "cells": [
  {
   "cell_type": "code",
   "execution_count": 4,
   "id": "5db837a6-9aa3-435f-9e23-624467ffe308",
   "metadata": {},
   "outputs": [
    {
     "name": "stdout",
     "output_type": "stream",
     "text": [
      "%install\n",
      "%magic\n",
      "%random\n",
      "%randomInt\n",
      "%tag"
     ]
    }
   ],
   "source": [
    "%magic"
   ]
  }
 ],
 "metadata": {
  "kernelspec": {
   "display_name": "Dockerfile",
   "language": "text",
   "name": "docker"
  },
  "language_info": {
   "file_extension": ".dockerfile",
   "mimetype": "text/x-dockerfile-config",
   "name": "docker"
  }
 },
 "nbformat": 4,
 "nbformat_minor": 5
}
