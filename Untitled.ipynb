{
 "cells": [
  {
   "cell_type": "code",
   "execution_count": 1,
   "id": "3f8aae89-4c87-4d21-b518-d16823e6b9a7",
   "metadata": {},
   "outputs": [
    {
     "name": "stdout",
     "output_type": "stream",
     "text": [
      "Step 1/1 : FROM ubuntu:latest ---> 3b418d7b466a\n",
      "Successfully built 3b418d7b466a\n"
     ]
    }
   ],
   "source": [
    "FROM ubuntu:latest"
   ]
  },
  {
   "cell_type": "code",
   "execution_count": 2,
   "id": "da190a41-0300-4506-9c4b-85fe23d36c42",
   "metadata": {},
   "outputs": [
    {
     "name": "stdout",
     "output_type": "stream",
     "text": [
      "You are now accessing the shell of a docker container created by the current image..."
     ]
    }
   ],
   "source": [
    "%shell"
   ]
  },
  {
   "cell_type": "code",
   "execution_count": 4,
   "id": "be6ab776-8204-4298-98b0-d975b8c573f5",
   "metadata": {},
   "outputs": [
    {
     "name": "stdout",
     "output_type": "stream",
     "text": []
    }
   ],
   "source": [
    "cd dev"
   ]
  },
  {
   "cell_type": "code",
   "execution_count": 5,
   "id": "301aba61-6237-4c29-964b-58b37f8d607c",
   "metadata": {},
   "outputs": [
    {
     "name": "stdout",
     "output_type": "stream",
     "text": [
      "core\n",
      "fd\n",
      "full\n",
      "mqueue\n",
      "null\n",
      "ptmx\n",
      "pts\n",
      "random\n",
      "shm\n",
      "stderr\n",
      "stdin\n",
      "stdout\n",
      "tty\n",
      "urandom\n",
      "zero\n"
     ]
    }
   ],
   "source": [
    "ls"
   ]
  },
  {
   "cell_type": "code",
   "execution_count": null,
   "id": "9c9513dc-3a8f-4604-a67a-2de54201f4c1",
   "metadata": {},
   "outputs": [],
   "source": []
  },
  {
   "cell_type": "code",
   "execution_count": null,
   "id": "c1b00338-b51f-4c20-9a9e-1c3f47bea486",
   "metadata": {},
   "outputs": [],
   "source": []
  }
 ],
 "metadata": {
  "kernelspec": {
   "display_name": "Dockerfile",
   "language": "text",
   "name": "docker"
  },
  "language_info": {
   "file_extension": ".dockerfile",
   "mimetype": "text/x-dockerfile-config",
   "name": "docker"
  }
 },
 "nbformat": 4,
 "nbformat_minor": 5
}
