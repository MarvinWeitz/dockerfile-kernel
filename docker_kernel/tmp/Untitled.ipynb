{
 "cells": [
  {
   "cell_type": "code",
   "execution_count": 1,
   "id": "adbdb48d-58c2-40a3-a612-d6d7c74b121e",
   "metadata": {},
   "outputs": [
    {
     "name": "stdout",
     "output_type": "stream",
     "text": [
      "dockerfile parse error on line 1: FROM requires either one or three arguments"
     ]
    }
   ],
   "source": [
    "FROM "
   ]
  },
  {
   "cell_type": "code",
   "execution_count": null,
   "id": "a5953367-55ed-4920-95a8-5c6bfd90ade5",
   "metadata": {},
   "outputs": [],
   "source": []
  }
 ],
 "metadata": {
  "kernelspec": {
   "display_name": "Dockerfile",
   "language": "text",
   "name": "docker"
  },
  "language_info": {
   "codemirror_mode": "Dockerfile",
   "file_extension": ".dockerfile",
   "mimetype": "text/x-dockerfile",
   "name": "docker"
  }
 },
 "nbformat": 4,
 "nbformat_minor": 5
}
