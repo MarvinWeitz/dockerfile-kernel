{
 "cells": [
  {
   "cell_type": "code",
   "execution_count": 1,
   "id": "d6374d60-505e-407b-b2b3-93dc5a699c35",
   "metadata": {},
   "outputs": [
    {
     "name": "stdout",
     "output_type": "stream",
     "text": [
      "Step 1/1 : FROM ubuntu:latest ---> 01f29b872827\n",
      "Successfully built 01f29b872827\n"
     ]
    }
   ],
   "source": [
    "FROM ubuntu:latest"
   ]
  },
  {
   "cell_type": "code",
   "execution_count": 2,
   "id": "0050f245-6005-431f-90a8-82926dc15143",
   "metadata": {},
   "outputs": [
    {
     "name": "stdout",
     "output_type": "stream",
     "text": [
      "Step 1/2 : FROM sha256:01f29b872827fa6f9aed0ea0b2ede53aea4ad9d66c7920e81a8db6d1fd9ab7f9 ---> 01f29b872827\n",
      "Step 2/2 : RUN apt-get update &&\t apt-get install -y figlet &&\t rm -rf /var/lib/apt/lists/* ---> Using cache\n",
      " ---> 54068cc98e5c\n",
      "Successfully built 54068cc98e5c\n"
     ]
    }
   ],
   "source": [
    "RUN apt-get update &&\\\n",
    "\t apt-get install -y figlet &&\\\n",
    "\t rm -rf /var/lib/apt/lists/*"
   ]
  },
  {
   "cell_type": "code",
   "execution_count": 3,
   "id": "80187070-9772-4f41-96f0-f0082899ba6f",
   "metadata": {},
   "outputs": [
    {
     "name": "stdout",
     "output_type": "stream",
     "text": [
      "Step 1/2 : FROM sha256:54068cc98e5ca8b85ed7bf69835a7f32f44a3f6769cd93240e899012abe4ec11 ---> 54068cc98e5c\n",
      "Step 2/2 : RUN figlet \"Dominic is the best Nic\" ---> Using cache\n",
      " ---> 6ca9b99e37e1\n",
      "Successfully built 6ca9b99e37e1\n"
     ]
    }
   ],
   "source": [
    "RUN figlet \"Dominic is the best Nic\""
   ]
  },
  {
   "cell_type": "code",
   "execution_count": 4,
   "id": "4e1fb908-5d76-48b4-961d-94bb04ea9622",
   "metadata": {},
   "outputs": [
    {
     "name": "stdout",
     "output_type": "stream",
     "text": [
      "Step 1/2 : FROM sha256:6ca9b99e37e189afc39faa4a3abfab898c56dee8f8cf7234dddd43fb523a38a6 ---> 6ca9b99e37e1\n",
      "Step 2/2 : RUN figlet \"How do IT professionals stay cool in the summer? They use Windows!\" ---> Using cache\n",
      " ---> 30a76fe6e499\n",
      "Successfully built 30a76fe6e499\n"
     ]
    }
   ],
   "source": [
    "RUN figlet \"How do IT professionals stay cool in the summer? They use Windows!\""
   ]
  }
 ],
 "metadata": {
  "kernelspec": {
   "display_name": "Dockerfile",
   "language": "text",
   "name": "docker"
  },
  "language_info": {
   "codemirror_mode": "Dockerfile",
   "file_extension": ".dockerfile",
   "mimetype": "text/x-dockerfile",
   "name": "docker"
  }
 },
 "nbformat": 4,
 "nbformat_minor": 5
}
